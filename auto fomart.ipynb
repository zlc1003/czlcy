{
 "cells": [
  {
   "cell_type": "code",
   "execution_count": 6,
   "metadata": {},
   "outputs": [
    {
     "name": "stdout",
     "output_type": "stream",
     "text": [
      "/         ->     comment\n",
      "\n"
     ]
    }
   ],
   "source": [
    "def func(string:str):\n",
    "    if string=='':\n",
    "        return\n",
    "    return string.split('->')\n",
    "out=''\n",
    "tmpout = list(map(func,go.split('\\n')))\n",
    "for i in tmpout:\n",
    "    if i == None:continue\n",
    "    a,b=i\n",
    "    out += (a+(\" \"*(10-len(a))))+ \"->     \" + b + '\\n'\n",
    "print(out)"
   ]
  },
  {
   "cell_type": "code",
   "execution_count": 5,
   "metadata": {},
   "outputs": [],
   "source": [
    "go='''\n",
    "/->comment\n",
    "'''"
   ]
  }
 ],
 "metadata": {
  "kernelspec": {
   "display_name": "base",
   "language": "python",
   "name": "python3"
  },
  "language_info": {
   "codemirror_mode": {
    "name": "ipython",
    "version": 3
   },
   "file_extension": ".py",
   "mimetype": "text/x-python",
   "name": "python",
   "nbconvert_exporter": "python",
   "pygments_lexer": "ipython3",
   "version": "3.10.8"
  },
  "orig_nbformat": 4,
  "vscode": {
   "interpreter": {
    "hash": "9dd95f1abe7244080c69e5e77ee40a35e1156c434a57b6aaab8047d188f8c0ba"
   }
  }
 },
 "nbformat": 4,
 "nbformat_minor": 2
}
