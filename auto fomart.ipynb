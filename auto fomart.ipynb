{
 "cells": [
  {
   "cell_type": "code",
   "execution_count": 4,
   "metadata": {},
   "outputs": [
    {
     "name": "stdout",
     "output_type": "stream",
     "text": [
      "print     ->     输出\n",
      "max       ->     最大\n",
      "min       ->     最小\n",
      "next      ->     下一个 | 下个\n",
      "iter      ->     重复\n",
      "eval      ->     计算\n",
      "exec      ->     运行\n",
      "any       ->     任何\n",
      "bin       ->     二进制\n",
      "abs       ->     绝对值\n",
      "chr       ->     ascii码\n",
      "input     ->     输入\n",
      "len       ->     长度\n",
      "type      ->     型类\n",
      "super     ->     超级\n",
      "str       ->     字符串\n",
      "range     ->     范围\n",
      "object    ->     对象\n",
      "map       ->     地图\n",
      "list      ->     列表\n",
      "int       ->     数字\n",
      "float     ->     小数\n",
      "dict      ->     字典\n",
      "bytes     ->     字节\n",
      "bool      ->     布尔值\n",
      "True      ->     真\n",
      "False     ->     假\n",
      "Ellipsis  ->     省略\n",
      "None      ->     空\n",
      "tuple     ->     元组\n",
      "zip       ->     打包\n",
      "bytearray ->     字节数组\n",
      "\n"
     ]
    }
   ],
   "source": [
    "def func(string:str):\n",
    "    if string=='':\n",
    "        return\n",
    "    return string.split('->')\n",
    "out=''\n",
    "tmpout = list(map(func,go.split('\\n')))\n",
    "for i in tmpout:\n",
    "    if i == None:continue\n",
    "    a,b=i\n",
    "    out += (a+(\" \"*(10-len(a))))+ \"->     \" + b + '\\n'\n",
    "print(out)"
   ]
  },
  {
   "cell_type": "code",
   "execution_count": 1,
   "metadata": {},
   "outputs": [],
   "source": [
    "go='''\n",
    "print->输出\n",
    "max->最大\n",
    "min->最小\n",
    "next->下一个 | 下个\n",
    "iter->重复\n",
    "eval->计算\n",
    "exec->运行\n",
    "any->任何\n",
    "bin->二进制\n",
    "abs->绝对值\n",
    "chr->ascii码\n",
    "input->输入\n",
    "len->长度\n",
    "type->型类\n",
    "super->超级\n",
    "str->字符串\n",
    "range->范围\n",
    "object->对象\n",
    "map->地图\n",
    "list->列表\n",
    "int->数字\n",
    "float->小数\n",
    "dict->字典\n",
    "bytes->字节\n",
    "bool->布尔值\n",
    "True->真\n",
    "False->假\n",
    "Ellipsis->省略\n",
    "None->空\n",
    "tuple->元组\n",
    "zip->打包\n",
    "bytearray->字节数组\n",
    "'''"
   ]
  }
 ],
 "metadata": {
  "kernelspec": {
   "display_name": "base",
   "language": "python",
   "name": "python3"
  },
  "language_info": {
   "codemirror_mode": {
    "name": "ipython",
    "version": 3
   },
   "file_extension": ".py",
   "mimetype": "text/x-python",
   "name": "python",
   "nbconvert_exporter": "python",
   "pygments_lexer": "ipython3",
   "version": "3.10.8 | packaged by conda-forge | (main, Nov 22 2022, 08:25:29) [Clang 14.0.6 ]"
  },
  "orig_nbformat": 4,
  "vscode": {
   "interpreter": {
    "hash": "9dd95f1abe7244080c69e5e77ee40a35e1156c434a57b6aaab8047d188f8c0ba"
   }
  }
 },
 "nbformat": 4,
 "nbformat_minor": 2
}
